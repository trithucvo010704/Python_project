{
 "cells": [
  {
   "cell_type": "code",
   "execution_count": 21,
   "metadata": {},
   "outputs": [],
   "source": [
    "import pandas as pd \n",
    "import numpy as np\n",
    "from sklearn.preprocessing import MinMaxScaler\n"
   ]
  },
  {
   "cell_type": "code",
   "execution_count": 22,
   "metadata": {},
   "outputs": [],
   "source": [
    "data = pd.read_excel('Dulieu_1.xlsx',header=1)"
   ]
  },
  {
   "cell_type": "code",
   "execution_count": 23,
   "metadata": {},
   "outputs": [
    {
     "data": {
      "text/html": [
       "<div>\n",
       "<style scoped>\n",
       "    .dataframe tbody tr th:only-of-type {\n",
       "        vertical-align: middle;\n",
       "    }\n",
       "\n",
       "    .dataframe tbody tr th {\n",
       "        vertical-align: top;\n",
       "    }\n",
       "\n",
       "    .dataframe thead th {\n",
       "        text-align: right;\n",
       "    }\n",
       "</style>\n",
       "<table border=\"1\" class=\"dataframe\">\n",
       "  <thead>\n",
       "    <tr style=\"text-align: right;\">\n",
       "      <th></th>\n",
       "      <th>Unnamed: 0</th>\n",
       "      <th>A</th>\n",
       "      <th>B</th>\n",
       "      <th>C</th>\n",
       "      <th>D</th>\n",
       "      <th>CLASS</th>\n",
       "    </tr>\n",
       "  </thead>\n",
       "  <tbody>\n",
       "    <tr>\n",
       "      <th>0</th>\n",
       "      <td>NaN</td>\n",
       "      <td>7.0</td>\n",
       "      <td>3.2</td>\n",
       "      <td>4.7</td>\n",
       "      <td>1.4</td>\n",
       "      <td>Iris-versicolor</td>\n",
       "    </tr>\n",
       "    <tr>\n",
       "      <th>1</th>\n",
       "      <td>NaN</td>\n",
       "      <td>6.4</td>\n",
       "      <td>3.2</td>\n",
       "      <td>4.5</td>\n",
       "      <td>1.5</td>\n",
       "      <td>Iris-versicolor</td>\n",
       "    </tr>\n",
       "    <tr>\n",
       "      <th>2</th>\n",
       "      <td>NaN</td>\n",
       "      <td>6.9</td>\n",
       "      <td>3.1</td>\n",
       "      <td>4.9</td>\n",
       "      <td>1.5</td>\n",
       "      <td>Iris-versicolor</td>\n",
       "    </tr>\n",
       "    <tr>\n",
       "      <th>3</th>\n",
       "      <td>NaN</td>\n",
       "      <td>5.5</td>\n",
       "      <td>2.3</td>\n",
       "      <td>4.0</td>\n",
       "      <td>1.3</td>\n",
       "      <td>Iris-versicolor</td>\n",
       "    </tr>\n",
       "    <tr>\n",
       "      <th>4</th>\n",
       "      <td>NaN</td>\n",
       "      <td>6.5</td>\n",
       "      <td>2.8</td>\n",
       "      <td>4.6</td>\n",
       "      <td>1.5</td>\n",
       "      <td>Iris-versicolor</td>\n",
       "    </tr>\n",
       "  </tbody>\n",
       "</table>\n",
       "</div>"
      ],
      "text/plain": [
       "   Unnamed: 0    A    B    C    D            CLASS\n",
       "0         NaN  7.0  3.2  4.7  1.4  Iris-versicolor\n",
       "1         NaN  6.4  3.2  4.5  1.5  Iris-versicolor\n",
       "2         NaN  6.9  3.1  4.9  1.5  Iris-versicolor\n",
       "3         NaN  5.5  2.3  4.0  1.3  Iris-versicolor\n",
       "4         NaN  6.5  2.8  4.6  1.5  Iris-versicolor"
      ]
     },
     "execution_count": 23,
     "metadata": {},
     "output_type": "execute_result"
    }
   ],
   "source": [
    "data.head()\n"
   ]
  },
  {
   "cell_type": "code",
   "execution_count": 24,
   "metadata": {},
   "outputs": [],
   "source": [
    "# Khởi tạo MinMaxScaler\n",
    "scaler = MinMaxScaler()"
   ]
  },
  {
   "cell_type": "code",
   "execution_count": 27,
   "metadata": {},
   "outputs": [
    {
     "name": "stdout",
     "output_type": "stream",
     "text": [
      "Dữ liệu gốc:\n",
      "     Unnamed: 0         A         B         C         D            CLASS\n",
      "0          NaN  0.777778  0.692308  0.424242  0.266667  Iris-versicolor\n",
      "1          NaN  0.555556  0.692308  0.363636  0.333333  Iris-versicolor\n",
      "2          NaN  0.740741  0.615385  0.484848  0.333333  Iris-versicolor\n",
      "3          NaN  0.222222  0.000000  0.212121  0.200000  Iris-versicolor\n",
      "4          NaN  0.592593  0.384615  0.393939  0.333333  Iris-versicolor\n",
      "5          NaN  0.296296  0.384615  0.363636  0.200000  Iris-versicolor\n",
      "6          NaN  0.518519  0.769231  0.424242  0.400000  Iris-versicolor\n",
      "7          NaN  0.000000  0.076923  0.000000  0.000000  Iris-versicolor\n",
      "8          NaN  0.629630  0.461538  0.393939  0.200000  Iris-versicolor\n",
      "9          NaN  0.111111  0.307692  0.181818  0.266667  Iris-versicolor\n",
      "10         NaN  0.518519  0.769231  0.818182  1.000000   Iris-virginica\n",
      "11         NaN  0.333333  0.307692  0.545455  0.600000   Iris-virginica\n",
      "12         NaN  0.814815  0.538462  0.787879  0.733333   Iris-virginica\n",
      "13         NaN  0.518519  0.461538  0.696970  0.533333   Iris-virginica\n",
      "14         NaN  0.592593  0.538462  0.757576  0.800000   Iris-virginica\n",
      "15         NaN  1.000000  0.538462  1.000000  0.733333   Iris-virginica\n",
      "16         NaN  0.000000  0.153846  0.363636  0.466667   Iris-virginica\n",
      "17         NaN  0.888889  0.461538  0.909091  0.533333   Iris-virginica\n",
      "18         NaN  0.666667  0.153846  0.757576  0.533333   Iris-virginica\n",
      "19         NaN  0.851852  1.000000  0.848485  1.000000   Iris-virginica\n",
      "\n",
      "Dữ liệu đã chuẩn hóa:\n",
      " [[0.77777778 0.69230769 0.42424242 0.26666667]\n",
      " [0.55555556 0.69230769 0.36363636 0.33333333]\n",
      " [0.74074074 0.61538462 0.48484848 0.33333333]\n",
      " [0.22222222 0.         0.21212121 0.2       ]\n",
      " [0.59259259 0.38461538 0.39393939 0.33333333]\n",
      " [0.2962963  0.38461538 0.36363636 0.2       ]\n",
      " [0.51851852 0.76923077 0.42424242 0.4       ]\n",
      " [0.         0.07692308 0.         0.        ]\n",
      " [0.62962963 0.46153846 0.39393939 0.2       ]\n",
      " [0.11111111 0.30769231 0.18181818 0.26666667]\n",
      " [0.51851852 0.76923077 0.81818182 1.        ]\n",
      " [0.33333333 0.30769231 0.54545455 0.6       ]\n",
      " [0.81481481 0.53846154 0.78787879 0.73333333]\n",
      " [0.51851852 0.46153846 0.6969697  0.53333333]\n",
      " [0.59259259 0.53846154 0.75757576 0.8       ]\n",
      " [1.         0.53846154 1.         0.73333333]\n",
      " [0.         0.15384615 0.36363636 0.46666667]\n",
      " [0.88888889 0.46153846 0.90909091 0.53333333]\n",
      " [0.66666667 0.15384615 0.75757576 0.53333333]\n",
      " [0.85185185 1.         0.84848485 1.        ]]\n"
     ]
    }
   ],
   "source": [
    "\n",
    "\n",
    "ok = ['A', 'B', 'C', 'D']\n",
    "# Chuẩn hóa dữ liệu\n",
    "scaled_data = scaler.fit_transform(data[ok])\n",
    "\n",
    "print(\"Dữ liệu gốc:\\n\", data)\n",
    "print()\n",
    "print(\"Dữ liệu đã chuẩn hóa:\\n\", scaled_data)\n",
    "data[ok]=scaled_data"
   ]
  },
  {
   "cell_type": "code",
   "execution_count": null,
   "metadata": {},
   "outputs": [],
   "source": []
  }
 ],
 "metadata": {
  "kernelspec": {
   "display_name": "base",
   "language": "python",
   "name": "python3"
  },
  "language_info": {
   "codemirror_mode": {
    "name": "ipython",
    "version": 3
   },
   "file_extension": ".py",
   "mimetype": "text/x-python",
   "name": "python",
   "nbconvert_exporter": "python",
   "pygments_lexer": "ipython3",
   "version": "3.12.4"
  }
 },
 "nbformat": 4,
 "nbformat_minor": 2
}
